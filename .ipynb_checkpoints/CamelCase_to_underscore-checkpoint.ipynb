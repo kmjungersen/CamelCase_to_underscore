{
 "metadata": {
  "name": "",
  "signature": "sha256:466c50a8a58d2bf199f1a9505465196e2690950b40cd00c5bf3a50da21a86502"
 },
 "nbformat": 3,
 "nbformat_minor": 0,
 "worksheets": []
}